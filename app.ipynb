{
 "cells": [
  {
   "cell_type": "code",
   "execution_count": 21,
   "metadata": {
    "scrolled": true
   },
   "outputs": [
    {
     "name": "stdout",
     "output_type": "stream",
     "text": [
      "predicted to :  45.5\n",
      "predicted to :  138.5078690553532\n"
     ]
    },
    {
     "data": {
      "image/png": "\n",
      "text/plain": [
       "<Figure size 432x288 with 1 Axes>"
      ]
     },
     "metadata": {},
     "output_type": "display_data"
    },
    {
     "name": "stdout",
     "output_type": "stream",
     "text": [
      "loss after train: 0.37085448106070373\n"
     ]
    }
   ],
   "source": [
    "import matplotlib.pyplot as plt\n",
    "import numpy as np\n",
    "\n",
    "class svlr:\n",
    "    def __init__ (self,X,y,alpha = .00001):\n",
    "        self.X = X\n",
    "        self.y = y\n",
    "        self.Theta = [.5, .5]\n",
    "        self.alpha = alpha\n",
    "    \n",
    "    def plotData(self):\n",
    "        plt.figure()\n",
    "        plt.plot(self.X,self.y,\"k.\",markersize=12)\n",
    "        plt.grid()\n",
    "        plt.show()\n",
    "        \n",
    "    \n",
    "    def h(self,X):\n",
    "        return self.Theta[1] * X + self.Theta[0]\n",
    "    \n",
    "    def J(self):\n",
    "        error = 0\n",
    "        for i in range(len(self.X)):\n",
    "            error += abs((self.h(self.X[i]) - self.y[i]))\n",
    "        error /= 2 * len(self.X)\n",
    "        return error\n",
    "    \n",
    "    def plot_h(self):\n",
    "        line_x = np.linspace(0,max(self.X),max(self.X) * 10)\n",
    "        plt.figure()\n",
    "        plt.plot(line_x,self.h(line_x),'b')\n",
    "        plt.plot(self.X,self.y,'ko')\n",
    "        plt.grid()\n",
    "        plt.show()\n",
    "    \n",
    "    def GD(self):\n",
    "        threshold = 1000\n",
    "        while threshold > .00000001:\n",
    "            old_cost = self.J()\n",
    "            sum = 0\n",
    "            for i in range(len(self.X)):\n",
    "                sum += (self.h(self.X[i]) - self.y[i])\n",
    "            sum = sum * (self.alpha / len(self.X))\n",
    "            temp_Theta0 = self.Theta[0] - sum\n",
    "\n",
    "            \n",
    "            sum = 0\n",
    "            for i in range(len(self.X)):\n",
    "                sum += (self.h(self.X[i]) - self.y[i]) * self.X[i]\n",
    "            sum = sum * (self.alpha / len(self.X))\n",
    "            temp_Theta1 = self.Theta[1] - sum\n",
    "            \n",
    "            \n",
    "            self.Theta = [temp_Theta0, temp_Theta1]\n",
    "            new_cost = self.J()\n",
    "            \n",
    "            threshold = abs(old_cost - new_cost)\n",
    "            \n",
    "    def predict(self,X):\n",
    "        print(\"predicted to : \",self.h(int(X)))\n",
    "\n",
    "\n",
    "\n",
    "\n",
    "X = [100, 200, 70]\n",
    "y = [150, 275, 115]\n",
    "svlr = svlr(X,y)\n",
    "svlr.predict(\"90\")\n",
    "svlr.GD()\n",
    "svlr.predict(\"90\")\n",
    "svlr.plot_h()\n",
    "print(\"loss after train:\", svlr.J())"
   ]
  },
  {
   "cell_type": "code",
   "execution_count": null,
   "metadata": {},
   "outputs": [],
   "source": []
  }
 ],
 "metadata": {
  "kernelspec": {
   "display_name": "Python 3",
   "language": "python",
   "name": "python3"
  },
  "language_info": {
   "codemirror_mode": {
    "name": "ipython",
    "version": 3
   },
   "file_extension": ".py",
   "mimetype": "text/x-python",
   "name": "python",
   "nbconvert_exporter": "python",
   "pygments_lexer": "ipython3",
   "version": "3.6.8"
  }
 },
 "nbformat": 4,
 "nbformat_minor": 2
}
